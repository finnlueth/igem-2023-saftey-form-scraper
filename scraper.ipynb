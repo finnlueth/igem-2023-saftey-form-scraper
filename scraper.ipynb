{
 "cells": [
  {
   "cell_type": "markdown",
   "metadata": {},
   "source": [
    "Igor: Update API headers and update api URL to current one"
   ]
  },
  {
   "cell_type": "code",
   "execution_count": null,
   "metadata": {},
   "outputs": [],
   "source": [
    "import imp\n",
    "import requests\n",
    "import json\n",
    "import csv\n",
    "import time"
   ]
  },
  {
   "cell_type": "code",
   "execution_count": null,
   "metadata": {},
   "outputs": [],
   "source": [
    "input_filename = \"2023_iGEM-Teams.csv\" # csv from igem \n",
    "output_filename = \"2023_iGEM_Teams_Safety_Forms.csv\" # csv from igem "
   ]
  },
  {
   "cell_type": "code",
   "execution_count": null,
   "metadata": {},
   "outputs": [],
   "source": [
    "def getIDs():\n",
    "    list = []\n",
    "    with open(input_filename, mode='r') as f:\n",
    "        file = csv.reader(f)\n",
    "        for x in file:\n",
    "            list.append([x[0], x[1]])\n",
    "        del list[0]\n",
    "    return list"
   ]
  },
  {
   "cell_type": "code",
   "execution_count": null,
   "metadata": {},
   "outputs": [],
   "source": [
    "def requestItem(teamID):\n",
    "    headers = {\n",
    "    'Accept': '*/*',\n",
    "    'Accept-Language': 'en-US,en;q=0.5',\n",
    "    'Connection': 'keep-alive',\n",
    "    'Content-Type': 'multipart/form-data; boundary=----WebKitFormBoundaryQj0aFc6orfAZaGBC',\n",
    "    'Origin': 'https://responsibility.igem.org',\n",
    "    'Referer': 'https://responsibility.igem.org/',\n",
    "    'Sec-Fetch-Dest': 'empty',\n",
    "    'Sec-Fetch-Mode': 'cors',\n",
    "    'Sec-Fetch-Site': 'same-site',\n",
    "    'Sec-GPC': '1',\n",
    "    'User-Agent': 'Mozilla/5.0 (Macintosh; Intel Mac OS X 10_15_7) AppleWebKit/537.36 (KHTML, like Gecko) Chrome/114.0.0.0 Safari/537.36',\n",
    "    'sec-ch-ua': '\"Not.A/Brand\";v=\"8\", \"Chromium\";v=\"114\", \"Brave\";v=\"114\"',\n",
    "    'sec-ch-ua-mobile': '?0',\n",
    "    'sec-ch-ua-platform': '\"macOS\"',\n",
    "    }\n",
    "    data = '------WebKitFormBoundaryQj0aFc6orfAZaGBC\\r\\nContent-Disposition: form-data; name=\"command\"\\r\\n\\r\\nstore\\r\\n------WebKitFormBoundaryQj0aFc6orfAZaGBC\\r\\nContent-Disposition: form-data; name=\"entry_list\"\\r\\n\\r\\n[{\"field_name\":\"sub_form\",\"answer\":\"\"}]\\r\\n------WebKitFormBoundaryQj0aFc6orfAZaGBC\\r\\nContent-Disposition: form-data; name=\"form_name\"\\r\\n\\r\\n2023_final_safety_form\\r\\n------WebKitFormBoundaryQj0aFc6orfAZaGBC\\r\\nContent-Disposition: form-data; name=\"sub_form\"\\r\\n\\r\\n\\r\\n------WebKitFormBoundaryQj0aFc6orfAZaGBC\\r\\nContent-Disposition: form-data; name=\"team_id\"\\r\\n\\r\\n' + str(teamID) + '\\r\\n------WebKitFormBoundaryQj0aFc6orfAZaGBC--\\r\\n'\n",
    "\n",
    "    response = requests.post('https://old.igem.org/cgi/forms/form.cgi', headers=headers, data=data)\n",
    "\n",
    "    return response"
   ]
  },
  {
   "cell_type": "code",
   "execution_count": null,
   "metadata": {},
   "outputs": [],
   "source": [
    "def findDescription(item):\n",
    "    for x in item.json()['entry_list']:\n",
    "        if x['field_name'] == 'project_description':\n",
    "            return x['answer'].replace('\\n', '')"
   ]
  },
  {
   "cell_type": "code",
   "execution_count": null,
   "metadata": {},
   "outputs": [],
   "source": [
    "result = getIDs()\n",
    "\n",
    "for x in range(0, len(result)):\n",
    "    result[x].append(findDescription(requestItem(result[x][0])))\n",
    "    print(f'{[x/len(result)]} {result[x]}')\n",
    "    time.sleep(0.5)\n",
    "\n",
    "with open(output_filename, 'w') as f:\n",
    "        write = csv.writer(f)\n",
    "        write.writerows(result)"
   ]
  },
  {
   "cell_type": "code",
   "execution_count": null,
   "metadata": {},
   "outputs": [],
   "source": [
    "response = requestItem(4574)"
   ]
  },
  {
   "cell_type": "code",
   "execution_count": null,
   "metadata": {},
   "outputs": [],
   "source": []
  }
 ],
 "metadata": {
  "kernelspec": {
   "display_name": ".venv",
   "language": "python",
   "name": "python3"
  },
  "language_info": {
   "codemirror_mode": {
    "name": "ipython",
    "version": 3
   },
   "file_extension": ".py",
   "mimetype": "text/x-python",
   "name": "python",
   "nbconvert_exporter": "python",
   "pygments_lexer": "ipython3",
   "version": "3.11.3"
  },
  "orig_nbformat": 4
 },
 "nbformat": 4,
 "nbformat_minor": 2
}
